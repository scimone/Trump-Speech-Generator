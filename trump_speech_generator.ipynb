{
 "cells": [
  {
   "cell_type": "markdown",
   "metadata": {},
   "source": [
    "# Trump Speech Generator"
   ]
  },
  {
   "cell_type": "markdown",
   "metadata": {},
   "source": [
    "## 1. Setting up the Environment"
   ]
  },
  {
   "cell_type": "markdown",
   "metadata": {},
   "source": [
    "### Importing required Libraries"
   ]
  },
  {
   "cell_type": "code",
   "execution_count": 1,
   "metadata": {
    "id": "HzuCz41p1uBX"
   },
   "outputs": [],
   "source": [
    "import matplotlib.pyplot as plt\n",
    "import numpy as np\n",
    "import torch\n",
    "import torch.nn as nn\n",
    "import tqdm\n",
    "import re\n",
    "from pathlib import Path, PosixPath\n",
    "from typing import Tuple\n",
    "from torch.utils.data import Dataset, DataLoader\n",
    "from torch.distributions.multinomial import Multinomial"
   ]
  },
  {
   "cell_type": "markdown",
   "metadata": {},
   "source": [
    "### CUDA vs. CPU\n",
    "If you have an NVIDIA GPU with CUDA support, you can utilize your graphics card for model training. If not, don't worry – your model training process might just take a little bit longer."
   ]
  },
  {
   "cell_type": "code",
   "execution_count": 2,
   "metadata": {
    "colab": {
     "base_uri": "https://localhost:8080/"
    },
    "id": "FHfqEc7t5KHt",
    "outputId": "dc4bfe6b-0b18-446a-8175-52fc6076240c"
   },
   "outputs": [
    {
     "name": "stdout",
     "output_type": "stream",
     "text": [
      "cuda:0\n"
     ]
    }
   ],
   "source": [
    "device = torch.device(\"cuda:0\" if torch.cuda.is_available() else \"cpu\")\n",
    "print(device)"
   ]
  },
  {
   "cell_type": "markdown",
   "metadata": {},
   "source": [
    "## 2. Preparing the Dataset"
   ]
  },
  {
   "cell_type": "code",
   "execution_count": 3,
   "metadata": {
    "id": "c4CrwY5P1uBa"
   },
   "outputs": [],
   "source": [
    "class TextDS(Dataset):\n",
    "    \n",
    "    def __init__(self, text, characters, seq_length: int):\n",
    "        self.seq_length = seq_length  \n",
    "        self.text = text\n",
    "        self.characters = characters\n",
    "        self.char_idx = dict((c, i) for i, c in enumerate(self.characters))\n",
    "        self.idx_char = dict((i, c) for i, c in enumerate(self.characters))\n",
    "        self.seq_beginnings = np.arange(len(self.text) - self.seq_length)\n",
    "        self.samples = self.__create_samples()  \n",
    "\n",
    "    def encode_to_one_hot(self, data):\n",
    "        encoded = np.array([self.char_idx[d] for d in data], dtype=np.byte)\n",
    "        encoded = torch.tensor(encoded, dtype=torch.int64, device=device)\n",
    "        one_hot = nn.functional.one_hot(encoded, len(self.characters)).float()\n",
    "        return one_hot\n",
    "\n",
    "    def decode_from_one_hot(self, one_hot):\n",
    "        text_decoded = \"\"\n",
    "        for i in range(one_hot.shape[1]):\n",
    "            char_encoded = one_hot[0,i]\n",
    "            idx = int(char_encoded.argmax())\n",
    "            char = self.idx_char[idx]\n",
    "            text_decoded += char\n",
    "        return text_decoded\n",
    "    \n",
    "    def __get_xy(self, data, idx):\n",
    "        x = data[self.seq_beginnings[idx]:self.seq_beginnings[idx]+self.seq_length,:]\n",
    "        y = data[self.seq_beginnings[idx] + self.seq_length,:]\n",
    "        return (x, y)\n",
    "\n",
    "    def __create_samples(self):\n",
    "        one_hot_text = self.encode_to_one_hot(self.text)\n",
    "        samples = [self.__get_xy(one_hot_text, idx) for idx in range(self.__len__())]\n",
    "        return samples\n",
    "        \n",
    "    def __len__(self) -> int:\n",
    "        return len(self.seq_beginnings)\n",
    "        \n",
    "    def __getitem__(self, idx: int) -> Tuple[torch.Tensor, torch.Tensor]:\n",
    "        return self.samples[idx]\n",
    "\n",
    "    \n",
    "class Preprocessing():\n",
    "    \n",
    "    def __init__(self, file_train: PosixPath, file_val: PosixPath, replace_chars):\n",
    "        self.replace_chars = replace_chars\n",
    "        self.raw_train = self.__load_file(file_train)[:800000]\n",
    "        self.raw_val = self.__load_file(file_val)[:20000]\n",
    "        self.text_train = self.__preprocessing(self.raw_train)\n",
    "        self.text_val = self.__preprocessing(self.raw_val)\n",
    "        self.characters = sorted(list(set(self.text_train + self.text_val)))\n",
    "        self.n_chars = len(self.characters)\n",
    "        \n",
    "    def __load_file(self, file):\n",
    "        with open(file, 'r', encoding=\"utf-8\") as file:\n",
    "            text = file.read().lower()\n",
    "        return text\n",
    "        \n",
    "    def __preprocessing(self, text):\n",
    "        for (redundant, replacement) in self.replace_chars:\n",
    "            text = re.sub(redundant, replacement, text)           \n",
    "        return text"
   ]
  },
  {
   "cell_type": "code",
   "execution_count": null,
   "metadata": {},
   "outputs": [],
   "source": [
    "# Data Preprocessing\n",
    "paths = ('data/trump_train.txt', 'data/trump_val.txt')\n",
    "replace_chars = [(' +', ' '), ('\\n+', '\\n'), ('speech [1-9]*',''), ('…', '...'), ('“', '\"'),\n",
    "                  ('”', '\"'), ('‘', \"'\"), ('’', \"'\"), ('—', '-'), ('_', '-'), ('é', 'e')]\n",
    "data = Preprocessing(*paths, replace_chars)"
   ]
  },
  {
   "cell_type": "markdown",
   "metadata": {},
   "source": [
    "## 3. Implementing the PyTorch Model"
   ]
  },
  {
   "cell_type": "code",
   "execution_count": 4,
   "metadata": {
    "id": "Olx4lncO1uBe"
   },
   "outputs": [],
   "source": [
    "class Model(nn.Module):\n",
    "    \n",
    "    def __init__(self, input_size, hidden_size, output_size):\n",
    "        \n",
    "        super(Model, self).__init__()      \n",
    "        self.input_size = input_size\n",
    "        self.hidden_size = hidden_size\n",
    "        self.output_size = output_size\n",
    "        \n",
    "        # Input architectures\n",
    "        self.i = nn.Linear(self.output_size, self.hidden_size).to(device)\n",
    "        self.f = nn.Linear(self.output_size, self.hidden_size).to(device)\n",
    "        self.o = nn.Linear(self.output_size, self.hidden_size).to(device)\n",
    "        self.z = nn.Linear(self.output_size, self.hidden_size).to(device)\n",
    "        \n",
    "        # Recurring architectures\n",
    "        self.ri = nn.Linear(self.hidden_size, self.hidden_size, bias=False).to(device)\n",
    "        self.rf = nn.Linear(self.hidden_size, self.hidden_size, bias=False).to(device)\n",
    "        self.ro = nn.Linear(self.hidden_size, self.hidden_size, bias=False).to(device)\n",
    "        self.rz = nn.Linear(self.hidden_size, self.hidden_size, bias=False).to(device)\n",
    "        \n",
    "        # Output architecture\n",
    "        self.v = nn.Linear(self.hidden_size, self.output_size).to(device)\n",
    "        \n",
    "        # Activation architectures\n",
    "        self.sigmoid = nn.Sigmoid()\n",
    "        self.tanh = nn.Tanh()\n",
    "        self.softmax = nn.Softmax(dim=1)\n",
    "        \n",
    "        \n",
    "    def forward(self, x) -> torch.Tensor:\n",
    "        \n",
    "        N, T, _ = x.shape        \n",
    "        \n",
    "        # Initialization\n",
    "        h = torch.zeros(N, self.hidden_size).to(device)\n",
    "        c = torch.zeros(N, self.hidden_size).to(device)\n",
    "        \n",
    "        for t in range(T):\n",
    "            x_t = x[:,t]\n",
    "            i = self.sigmoid(self.i(x_t) + self.ri(h))\n",
    "            f = self.sigmoid(self.f(x_t) + self.rf(h))\n",
    "            o = self.sigmoid(self.o(x_t) + self.ro(h))\n",
    "            z = self.tanh(self.z(x_t) + self.rz(h))\n",
    "            c = f * c + i * z\n",
    "            h = o * self.tanh(c)\n",
    "            \n",
    "        output = self.softmax(self.v(h))\n",
    "        return output"
   ]
  },
  {
   "cell_type": "markdown",
   "metadata": {},
   "source": [
    "## 4. Model Training and Validation"
   ]
  },
  {
   "cell_type": "code",
   "execution_count": 5,
   "metadata": {
    "id": "LpjM5wxE1uBf"
   },
   "outputs": [],
   "source": [
    "def evaluate(network, loss, data_loader):\n",
    "\n",
    "    network.eval()\n",
    "    loss_values = 0\n",
    "    \n",
    "    for x,y in data_loader:\n",
    "        loss_values += loss(network.forward(x),y).item()\n",
    "    \n",
    "    return loss_values / len(data_loader)"
   ]
  },
  {
   "cell_type": "code",
   "execution_count": 6,
   "metadata": {
    "id": "JgRwQ6Pu1uBg"
   },
   "outputs": [],
   "source": [
    "def update(network, loss, data_loader, optimiser):\n",
    "\n",
    "    network.train()\n",
    "    loss.train()\n",
    "    \n",
    "    loss_values = 0\n",
    "    \n",
    "    for x,y in data_loader:\n",
    "        optimiser.zero_grad()\n",
    "        y_pred = network.forward(x)\n",
    "        loss_batch = loss(y_pred, y)\n",
    "        loss_values += loss_batch.item()\n",
    "        loss_batch.backward()\n",
    "        optimiser.step()\n",
    "\n",
    "    return loss_values / len(data_loader)"
   ]
  },
  {
   "cell_type": "code",
   "execution_count": 7,
   "metadata": {
    "id": "j74wl5N01uBg"
   },
   "outputs": [],
   "source": [
    "def train(data, epochs, batch_size, shuffle, lr, hidden_size, seq_length):\n",
    "    \n",
    "    # Data\n",
    "    train_set = TextDS(data.text_train, data.characters, seq_length=seq_length)\n",
    "    valid_set = TextDS(data.text_val, data.characters, seq_length=seq_length)\n",
    "    train_loader = DataLoader(train_set, batch_size=batch_size, shuffle=shuffle)\n",
    "    valid_loader = DataLoader(valid_set, batch_size=len(valid_set))\n",
    "       \n",
    "    # Network, Loss and Optimiser\n",
    "    network = Model(data.n_chars, hidden_size, data.n_chars)\n",
    "    loss = nn.BCELoss(reduction='mean')\n",
    "    optimiser = torch.optim.Adam(network.parameters(), lr=lr)    \n",
    "    \n",
    "    # Training\n",
    "    print(\"evaluate\")\n",
    "    with torch.no_grad():\n",
    "        train_errors = [evaluate(network, loss.eval(), train_loader)]\n",
    "        valid_errors = [evaluate(network, loss.eval(), valid_loader)]\n",
    "\n",
    "    for epoch in range(epochs):\n",
    "        print(\"epoch \" + str(epoch))\n",
    "        train_error = update(network, loss, train_loader, optimiser)\n",
    "        train_errors.append(train_error)\n",
    "        print('train_error: ' + str(train_error))\n",
    "        with torch.no_grad():\n",
    "            valid_error = evaluate(network, loss.eval(), valid_loader)\n",
    "            valid_errors.append(valid_error)\n",
    "            print('valid error: ' + str(valid_error))\n",
    "    \n",
    "    return train_errors, valid_errors, network, train_set"
   ]
  },
  {
   "cell_type": "markdown",
   "metadata": {},
   "source": [
    "### Starting the Training"
   ]
  },
  {
   "cell_type": "code",
   "execution_count": 8,
   "metadata": {
    "colab": {
     "base_uri": "https://localhost:8080/"
    },
    "id": "pk1-NVik1uBh",
    "outputId": "c7254a28-7400-47f3-9726-b4ebfbbc193e"
   },
   "outputs": [
    {
     "name": "stdout",
     "output_type": "stream",
     "text": [
      "evaluate\n",
      "epoch 0\n",
      "train_error: 0.036369448503137974\n",
      "valid error: 0.03556301072239876\n",
      "epoch 1\n",
      "train_error: 0.030159956631265653\n",
      "valid error: 0.03436140716075897\n",
      "epoch 2\n",
      "train_error: 0.028913922888193867\n",
      "valid error: 0.03369875252246857\n",
      "epoch 3\n",
      "train_error: 0.028223892826574982\n",
      "valid error: 0.03318716585636139\n",
      "epoch 4\n",
      "train_error: 0.027750601554798544\n",
      "valid error: 0.033253900706768036\n"
     ]
    }
   ],
   "source": [
    "# Parameters\n",
    "params = {'batch_size': 256,\n",
    "          'shuffle': True,\n",
    "          'epochs': 5,\n",
    "          'lr': 0.01,\n",
    "          'hidden_size': 256,\n",
    "          'seq_length': 100\n",
    "         }\n",
    "\n",
    "# Train\n",
    "train_errors, valid_errors, network, train_set = train(data, **params)"
   ]
  },
  {
   "cell_type": "markdown",
   "metadata": {},
   "source": [
    "## 5.  Visualizing the Training Progress"
   ]
  },
  {
   "cell_type": "code",
   "execution_count": 9,
   "metadata": {
    "colab": {
     "base_uri": "https://localhost:8080/",
     "height": 350
    },
    "id": "tFaeam_E1uBh",
    "outputId": "326e83d1-1163-4b8c-fb00-f3243641b698"
   },
   "outputs": [
    {
     "data": {
      "image/png": "[encoded data removed]",
      "text/plain": [
       "<Figure size 576x360 with 1 Axes>"
      ]
     },
     "metadata": {
      "needs_background": "light",
      "tags": []
     },
     "output_type": "display_data"
    }
   ],
   "source": [
    "train_errors, valid_errors = np.array(train_errors), np.array(valid_errors)\n",
    "\n",
    "fig, ax = plt.subplots(figsize=(8,5))\n",
    "ax.plot(train_errors, label='training error')\n",
    "ax.plot(valid_errors, label='validation error')\n",
    "\n",
    "plt.title(\"learning curves\")\n",
    "plt.legend()\n",
    "plt.xlabel(\"epochs\");\n",
    "plt.ylabel(\"error\");"
   ]
  },
  {
   "cell_type": "markdown",
   "metadata": {},
   "source": [
    "## 6. Generating a Trump Speech"
   ]
  },
  {
   "cell_type": "code",
   "execution_count": 23,
   "metadata": {
    "id": "zYnngklqgU8l"
   },
   "outputs": [],
   "source": [
    "def generate_text(model, start, seq_len, text_length, k):\n",
    "\n",
    "    model.eval()\n",
    "    text_encoded = start.reshape((1, *start.shape))\n",
    "    \n",
    "    def idx_from_logits(logits, k):\n",
    "        top_k = np.argpartition(-logits, k)[:k]\n",
    "        probs = logits[top_k]\n",
    "        idx = np.random.choice(top_k, p=probs/probs.sum())\n",
    "        return idx\n",
    "\n",
    "    for i in range(text_length):\n",
    "        x = text_encoded[:, text_encoded.shape[1]-seq_len+1:]   \n",
    "        pred = model(x=x)[0]\n",
    "        logits = pred.cpu().detach().numpy()\n",
    "        idx = idx_from_logits(logits, k)\n",
    "        next_encoded = nn.functional.one_hot(torch.tensor(idx, device=device), text_encoded.shape[2])\n",
    "        text_encoded = torch.cat((text_encoded, next_encoded.reshape(1, 1, len(next_encoded))), 1)\n",
    "\n",
    "    return text_encoded"
   ]
  },
  {
   "cell_type": "code",
   "execution_count": 31,
   "metadata": {
    "colab": {
     "base_uri": "https://localhost:8080/"
    },
    "id": "_vXYfPD_j0gP",
    "outputId": "8ed4ecbe-2091-47a9-b898-28e437fa07da"
   },
   "outputs": [
    {
     "name": "stdout",
     "output_type": "stream",
     "text": [
      "don't worry. we're going to do the wall. we're going to do the wall and by the way, who's going to pay for the wall? i'm a big problem. i don't know it wise the world. i want to do it. we have to get it.\n",
      "so it's true. it will be talking about a long time to take. we have to be that stupid and they sell out and we have a great again. i mee in the world.\n",
      "and then i'm not an american and i don't know if i sent them this military they want to do that. we are going to build our community are saying it into a polls.\n",
      "and when you have to do a good cards and they're.\n",
      "and i heard and we're going to be the worst person\n"
     ]
    }
   ],
   "source": [
    "start = \"Don't worry. We're going to do the wall. We're going to do the wall and by the way, who's going to pay for the wall?\"\n",
    "start_encoded = train_set.encode_to_one_hot(start.lower())\n",
    "\n",
    "k = 3\n",
    "text_len = 500\n",
    "seq_len = train_set.seq_length\n",
    "\n",
    "text_encoded = generate_text(network, start_encoded, seq_len, text_len, k)\n",
    "text_decoded = train_set.decode_from_one_hot(text_encoded)\n",
    "\n",
    "print(text_decoded)"
   ]
  },
  {
   "cell_type": "code",
   "execution_count": null,
   "metadata": {
    "id": "Dh3ttubXPhtx"
   },
   "outputs": [],
   "source": []
  }
 ],
 "metadata": {
  "accelerator": "GPU",
  "colab": {
   "collapsed_sections": [],
   "name": "Assignment4_k11947652_scimone.ipynb",
   "provenance": []
  },
  "kernelspec": {
   "display_name": "Python 3",
   "language": "python",
   "name": "python3"
  },
  "language_info": {
   "codemirror_mode": {
    "name": "ipython",
    "version": 3
   },
   "file_extension": ".py",
   "mimetype": "text/x-python",
   "name": "python",
   "nbconvert_exporter": "python",
   "pygments_lexer": "ipython3",
   "version": "3.8.8"
  }
 },
 "nbformat": 4,
 "nbformat_minor": 1
}
